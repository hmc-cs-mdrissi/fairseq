{
 "cells": [
  {
   "cell_type": "code",
   "execution_count": null,
   "metadata": {},
   "outputs": [],
   "source": [
    "import matplotlib.pyplot as plt\n",
    "import re\n",
    "import json\n",
    "import numpy as np"
   ]
  },
  {
   "cell_type": "code",
   "execution_count": null,
   "metadata": {},
   "outputs": [],
   "source": [
    "log_file_name = \"test_log.txt\"\n",
    "save_name = \"test_pic\"\n",
    "\n",
    "\n",
    "train_loss = []\n",
    "train_ppl = []\n",
    "val_loss = []\n",
    "val_ppl = []\n",
    "min_epoch = None\n",
    "max_epoch = None\n",
    "\n",
    "with open(log_file_name, 'r') as f:\n",
    "    log_lines = [line for line in f.readlines() if len(re.findall(r'^{', line)) > 0]\n",
    "    for line in log_lines:\n",
    "        curr_log = json.loads(line)\n",
    "        # Each log appears to be either train- or validation-related\n",
    "        if \"valid_loss\" in curr_log:\n",
    "            val_loss.append(curr_log[\"valid_loss\"])\n",
    "            val_ppl.append(float(curr_log[\"valid_ppl\"]))\n",
    "        else:\n",
    "            train_loss.append(float(curr_log[\"loss\"]))\n",
    "            train_ppl.append(float(curr_log[\"ppl\"]))\n",
    "            \n",
    "    # Figure out what epochs we've been training over.\n",
    "    min_epoch = json.loads(log_lines[0])[\"epoch\"]\n",
    "    max_epoch = json.loads(log_lines[-1])[\"epoch\"]\n",
    "        \n",
    "# Specify x-axis range so train and val line up time-wise even if they have different lengths\n",
    "train_step_size = int((max_epoch - min_epoch + 1)/len(train_loss))\n",
    "val_step_size = int((max_epoch - min_epoch + 1)/len(val_loss))\n",
    "train_range = np.linspace(min_epoch - 1 + train_step_size, max_epoch, len(train_loss))\n",
    "val_range = np.linspace(min_epoch - 1 + val_step_size, max_epoch, len(val_loss))\n",
    "\n",
    "plt.title(\"Loss\")\n",
    "plt.plot(train_range, train_loss)\n",
    "plt.plot(val_range, val_loss)\n",
    "plt.legend([\"Train\", \"Validation\"])\n",
    "plt.xlabel(\"Epoch\")\n",
    "plt.show()\n",
    "# plt.savefig(save_name + \"_loss.png\")\n",
    "           \n",
    "plt.title(\"Perplexity\")\n",
    "plt.plot(train_range, train_ppl)\n",
    "plt.plot(val_range, val_ppl)\n",
    "plt.legend([\"Train\", \"Validation\"])\n",
    "plt.xlabel(\"Epoch\")\n",
    "plt.show()\n",
    "# plt.savefig(save_name + \"_perplexity.png\")"
   ]
  }
 ],
 "metadata": {
  "kernelspec": {
   "display_name": "Python 3.5",
   "language": "python",
   "name": "python3.5"
  },
  "language_info": {
   "codemirror_mode": {
    "name": "ipython",
    "version": 3
   },
   "file_extension": ".py",
   "mimetype": "text/x-python",
   "name": "python",
   "nbconvert_exporter": "python",
   "pygments_lexer": "ipython3",
   "version": "3.5.2"
  }
 },
 "nbformat": 4,
 "nbformat_minor": 2
}
